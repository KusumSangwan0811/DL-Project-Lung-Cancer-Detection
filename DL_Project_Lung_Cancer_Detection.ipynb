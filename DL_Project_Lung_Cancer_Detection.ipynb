{
  "nbformat": 4,
  "nbformat_minor": 0,
  "metadata": {
    "colab": {
      "provenance": [],
      "gpuType": "T4"
    },
    "kernelspec": {
      "name": "python3",
      "display_name": "Python 3"
    },
    "language_info": {
      "name": "python"
    },
    "accelerator": "GPU"
  },
  "cells": [
    {
      "cell_type": "markdown",
      "source": [
        "# Deep Learning Project on Lung Cancer Detection\n",
        "\n",
        "This project is on chest cancer detection using deep leaning. The objective is to classify (type) and diagnose, if the patient have cancer or not with the help of AI model. So that the information about the type of cancer and the way of treatment can be provided to them."
      ],
      "metadata": {
        "id": "PgefHG6lneYH"
      }
    },
    {
      "cell_type": "code",
      "source": [
        "from google.colab import drive\n",
        "drive.mount('/content/drive')"
      ],
      "metadata": {
        "colab": {
          "base_uri": "https://localhost:8080/"
        },
        "id": "AKej82JE0EDX",
        "outputId": "91d9a999-c980-43dd-dc3c-5cb0fba2e2c0"
      },
      "execution_count": null,
      "outputs": [
        {
          "output_type": "stream",
          "name": "stdout",
          "text": [
            "Mounted at /content/drive\n"
          ]
        }
      ]
    },
    {
      "cell_type": "markdown",
      "source": [
        "## Using Chest CT-Scan Images Dataset\n",
        "\n",
        "\n",
        "This dataset is available on Kaggle on the link https://www.kaggle.com/datasets/mohamedhanyyy/chest-ctscan-images\n",
        "\n",
        "\n",
        "Data:\n",
        "\n",
        "Images are in jpg or png format and thus can be used directly to fit the model. This dataset contain 3 chest cancer types: Adenocarcinoma,Large cell carcinoma, Squamous cell carcinoma, and 1 folder for the normal cell. Data folder consists of train, test, and valid folders.  Each folder contain 3 folders of different chest cancer types (adenocarcinoma,large cell carcinoma,squamous cell carcinoma) and 1 folder of normal CT-Scan images (normal).\n",
        "\n",
        "*   train folder contain the training images\n",
        "*   test folder contain the testing images\n",
        "*   valid folder contain the validating images\n",
        "\n",
        "\n",
        "The training set is 70%, testing set is 20%, and validation set is 10%.\n",
        "\n",
        "**Dataset contains three types of lung cancer images:**\n",
        "\n",
        "*   Adenocarcinoma (Adenocarcinoma of the lung): Lung adenocarcinoma is the most common form of lung cancer accounting for 30 percent of all cases overall and about 40 percent of all non-small cell lung cancer occurrences. Adenocarcinomas are found in several common cancers, including breast, prostate and colorectal. Adenocarcinomas of the lung are found in the outer region of the lung in glands that secrete mucus and help us breathe. Symptoms include coughing, hoarseness, weight loss and weakness.\n",
        "\n",
        "*   Large cell carcinoma (Large-cell undifferentiated carcinoma): Large-cell undifferentiated carcinoma lung cancer grows and spreads quickly and can be found anywhere in the lung. This type of lung cancer usually accounts for 10 to 15 percent of all cases of NSCLC.\n",
        "\n",
        "*   Squamous cell carcinoma (Squamous cell): This type of lung cancer is found centrally in the lung, where the larger bronchi join the trachea to the lung, or in one of the main airway branches. Squamous cell lung cancer is responsible for about 30 percent of all non-small cell lung cancers, and is generally linked to smoking.\n",
        "\n",
        "And the last folder is the normal CT-Scan images"
      ],
      "metadata": {
        "id": "GcuFl3vfnfnS"
      }
    },
    {
      "cell_type": "markdown",
      "source": [
        ">There are 4 classes and class labels are as follows:\n",
        ">\n",
        ">Label 0 means Adenocarcinoma\n",
        ">\n",
        ">Label 1 means Large Cell Carcinoma\n",
        ">\n",
        ">Label 2 means Squamous Cell Carcinoma\n",
        ">\n",
        ">Label 3 means Normal\n",
        "\n"
      ],
      "metadata": {
        "id": "_BynCV2Wnfq6"
      }
    },
    {
      "cell_type": "markdown",
      "source": [
        "## Import Libraries"
      ],
      "metadata": {
        "id": "cKkLD8qqMN5r"
      }
    },
    {
      "cell_type": "code",
      "source": [
        "import numpy as np # linear algebra\n",
        "import pandas as pd # data processing, CSV file I/O (e.g. pd.read_csv)\n",
        "import tensorflow as tf\n",
        "from tensorflow.keras.preprocessing.image import ImageDataGenerator\n",
        "from tensorflow.keras import layers, models"
      ],
      "metadata": {
        "id": "tFjmZj9HMGSc"
      },
      "execution_count": null,
      "outputs": []
    },
    {
      "cell_type": "code",
      "source": [
        "# To check which GPU is assigned\n",
        "!nvidia-smi"
      ],
      "metadata": {
        "colab": {
          "base_uri": "https://localhost:8080/"
        },
        "id": "mhJ3iFYWH9ln",
        "outputId": "d415e126-8105-45f5-e635-9472e5d6eb5d"
      },
      "execution_count": null,
      "outputs": [
        {
          "output_type": "stream",
          "name": "stdout",
          "text": [
            "Tue Jun 18 15:56:56 2024       \n",
            "+---------------------------------------------------------------------------------------+\n",
            "| NVIDIA-SMI 535.104.05             Driver Version: 535.104.05   CUDA Version: 12.2     |\n",
            "|-----------------------------------------+----------------------+----------------------+\n",
            "| GPU  Name                 Persistence-M | Bus-Id        Disp.A | Volatile Uncorr. ECC |\n",
            "| Fan  Temp   Perf          Pwr:Usage/Cap |         Memory-Usage | GPU-Util  Compute M. |\n",
            "|                                         |                      |               MIG M. |\n",
            "|=========================================+======================+======================|\n",
            "|   0  Tesla T4                       Off | 00000000:00:04.0 Off |                    0 |\n",
            "| N/A   49C    P8              10W /  70W |      0MiB / 15360MiB |      0%      Default |\n",
            "|                                         |                      |                  N/A |\n",
            "+-----------------------------------------+----------------------+----------------------+\n",
            "                                                                                         \n",
            "+---------------------------------------------------------------------------------------+\n",
            "| Processes:                                                                            |\n",
            "|  GPU   GI   CI        PID   Type   Process name                            GPU Memory |\n",
            "|        ID   ID                                                             Usage      |\n",
            "|=======================================================================================|\n",
            "|  No running processes found                                                           |\n",
            "+---------------------------------------------------------------------------------------+\n"
          ]
        }
      ]
    },
    {
      "cell_type": "code",
      "source": [
        "# data_lung/\n",
        "#     train/\n",
        "#         adenocarcinoma/\n",
        "#         large.cell.carcinoma/\n",
        "#         squamous.cell.carcinoma/\n",
        "#         normal/\n",
        "#     valid/\n",
        "#         adenocarcinoma/\n",
        "#         large.cell.carcinoma/\n",
        "#         squamous.cell.carcinoma/\n",
        "#         normal/\n",
        "#     test/\n",
        "#         adenocarcinoma/\n",
        "#         large.cell.carcinoma/\n",
        "#         squamous.cell.carcinoma/\n",
        "#         normal/\n"
      ],
      "metadata": {
        "id": "uHMwCDQRH9oP"
      },
      "execution_count": null,
      "outputs": []
    },
    {
      "cell_type": "markdown",
      "source": [
        "Set up the paths for the dataset directories:"
      ],
      "metadata": {
        "id": "ZMyEiKFNMAwC"
      }
    },
    {
      "cell_type": "code",
      "source": [
        "train_dir = \"/content/drive/MyDrive/Datasets/Data_lung/train\"\n",
        "valid_dir = \"/content/drive/MyDrive/Datasets/Data_lung/valid\"\n",
        "test_dir = \"/content/drive/MyDrive/Datasets/Data_lung/test\""
      ],
      "metadata": {
        "id": "38kugawEH9rz"
      },
      "execution_count": null,
      "outputs": []
    },
    {
      "cell_type": "markdown",
      "source": [
        "## Data Preprocessing\n",
        "Use \"ImageDataGenerator\" to load and preprocess the images:"
      ],
      "metadata": {
        "id": "9JQxI5TsMWNK"
      }
    },
    {
      "cell_type": "code",
      "source": [
        "train_datagen = ImageDataGenerator(rescale=1./255)\n",
        "valid_datagen = ImageDataGenerator(rescale=1./255)\n",
        "test_datagen = ImageDataGenerator(rescale=1./255)\n",
        "\n",
        "train_generator = train_datagen.flow_from_directory(\n",
        "    train_dir,\n",
        "    target_size=(128, 128),\n",
        "    batch_size=32,\n",
        "    class_mode='categorical'  # for multi-class classification\n",
        ")\n",
        "\n",
        "valid_generator = valid_datagen.flow_from_directory(\n",
        "    valid_dir,\n",
        "    target_size=(128, 128),\n",
        "    batch_size=32,\n",
        "    class_mode='categorical'\n",
        ")\n",
        "\n",
        "test_generator = test_datagen.flow_from_directory(\n",
        "    test_dir,\n",
        "    target_size=(128, 128),\n",
        "    batch_size=32,\n",
        "    class_mode='categorical'\n",
        ")"
      ],
      "metadata": {
        "colab": {
          "base_uri": "https://localhost:8080/"
        },
        "id": "1AkSFUTwq24s",
        "outputId": "8e3e894b-7258-4cb8-cd9e-f6d413529ec6"
      },
      "execution_count": null,
      "outputs": [
        {
          "output_type": "stream",
          "name": "stdout",
          "text": [
            "Found 613 images belonging to 4 classes.\n",
            "Found 72 images belonging to 4 classes.\n",
            "Found 315 images belonging to 4 classes.\n"
          ]
        }
      ]
    },
    {
      "cell_type": "markdown",
      "source": [
        "## Build the CNN Model\n",
        "Define a CNN model:"
      ],
      "metadata": {
        "id": "triJ_AXDMf7k"
      }
    },
    {
      "cell_type": "code",
      "source": [
        "model = models.Sequential([\n",
        "    layers.Conv2D(32, (3, 3), activation='relu', input_shape=(128, 128, 3)),\n",
        "    layers.MaxPooling2D((2, 2)),\n",
        "    layers.Conv2D(64, (3, 3), activation='relu'),\n",
        "    layers.MaxPooling2D((2, 2)),\n",
        "    layers.Conv2D(128, (3, 3), activation='relu'),\n",
        "    layers.MaxPooling2D((2, 2)),\n",
        "    layers.Flatten(),\n",
        "    layers.Dense(128, activation='relu'),\n",
        "    layers.Dense(4, activation='softmax')  # 4 classes: 3 cancer types + normal\n",
        "])\n",
        "\n",
        "model.compile(optimizer='adam', loss='categorical_crossentropy', metrics=['accuracy'])\n"
      ],
      "metadata": {
        "id": "gc6ol9JVq27K"
      },
      "execution_count": null,
      "outputs": []
    },
    {
      "cell_type": "markdown",
      "source": [
        "## Train the Model\n",
        "Train the model using the training and validation data:"
      ],
      "metadata": {
        "id": "_Jb-nd3yMsMt"
      }
    },
    {
      "cell_type": "code",
      "source": [
        "history = model.fit(\n",
        "    train_generator,\n",
        "    epochs=10,\n",
        "    validation_data=valid_generator\n",
        ")"
      ],
      "metadata": {
        "colab": {
          "base_uri": "https://localhost:8080/"
        },
        "id": "PQtAvT6zq290",
        "outputId": "e3632222-9874-4ed6-888e-497e24d5b5ba"
      },
      "execution_count": null,
      "outputs": [
        {
          "output_type": "stream",
          "name": "stdout",
          "text": [
            "Epoch 1/10\n",
            "20/20 [==============================] - 335s 17s/step - loss: 1.4093 - accuracy: 0.3116 - val_loss: 1.2331 - val_accuracy: 0.4444\n",
            "Epoch 2/10\n",
            "20/20 [==============================] - 6s 288ms/step - loss: 0.9824 - accuracy: 0.5759 - val_loss: 0.8758 - val_accuracy: 0.6111\n",
            "Epoch 3/10\n",
            "20/20 [==============================] - 5s 242ms/step - loss: 0.6144 - accuracy: 0.7847 - val_loss: 0.7781 - val_accuracy: 0.6944\n",
            "Epoch 4/10\n",
            "20/20 [==============================] - 5s 242ms/step - loss: 0.4144 - accuracy: 0.8434 - val_loss: 0.9021 - val_accuracy: 0.6667\n",
            "Epoch 5/10\n",
            "20/20 [==============================] - 6s 279ms/step - loss: 0.3711 - accuracy: 0.8613 - val_loss: 0.6260 - val_accuracy: 0.7222\n",
            "Epoch 6/10\n",
            "20/20 [==============================] - 5s 241ms/step - loss: 0.2417 - accuracy: 0.9250 - val_loss: 0.5650 - val_accuracy: 0.7500\n",
            "Epoch 7/10\n",
            "20/20 [==============================] - 5s 273ms/step - loss: 0.2176 - accuracy: 0.9331 - val_loss: 0.8263 - val_accuracy: 0.7222\n",
            "Epoch 8/10\n",
            "20/20 [==============================] - 5s 237ms/step - loss: 0.1868 - accuracy: 0.9429 - val_loss: 0.4842 - val_accuracy: 0.8056\n",
            "Epoch 9/10\n",
            "20/20 [==============================] - 7s 346ms/step - loss: 0.2212 - accuracy: 0.9315 - val_loss: 0.6616 - val_accuracy: 0.7500\n",
            "Epoch 10/10\n",
            "20/20 [==============================] - 5s 239ms/step - loss: 0.3764 - accuracy: 0.9184 - val_loss: 0.7032 - val_accuracy: 0.7083\n"
          ]
        }
      ]
    },
    {
      "cell_type": "markdown",
      "source": [
        "## Evaluate the Model\n",
        "Evaluate the model on the test set:"
      ],
      "metadata": {
        "id": "k1EgL9QeM1-L"
      }
    },
    {
      "cell_type": "code",
      "source": [
        "test_loss, test_acc = model.evaluate(test_generator)\n",
        "print(f\"Test accuracy: {test_acc}\")"
      ],
      "metadata": {
        "colab": {
          "base_uri": "https://localhost:8080/"
        },
        "id": "zOu6bfzQq3AU",
        "outputId": "54066646-0bc9-41da-a915-b2cd6b286400"
      },
      "execution_count": null,
      "outputs": [
        {
          "output_type": "stream",
          "name": "stdout",
          "text": [
            "10/10 [==============================] - 205s 23s/step - loss: 1.8319 - accuracy: 0.5397\n",
            "Test accuracy: 0.5396825671195984\n"
          ]
        }
      ]
    },
    {
      "cell_type": "code",
      "source": [],
      "metadata": {
        "id": "rqg9jPwzq3CT"
      },
      "execution_count": null,
      "outputs": []
    },
    {
      "cell_type": "markdown",
      "source": [
        "The basic CNN model defined above is not actually learning much. So, we need to train a better model."
      ],
      "metadata": {
        "id": "6uHT8VV7OHCP"
      }
    },
    {
      "cell_type": "markdown",
      "source": [
        "## Data Augmentation\n",
        "There are only 613 images in the training dataset, that too it comprises of 4 classes. This amount of training data wont be sufficient to train good algorithms. Hence the strength of the dataset can be increased by appropriate image augmentation techniques.\n",
        "\n",
        "Increase the diversity of the training data to make the model more robust."
      ],
      "metadata": {
        "id": "elXYvMvAkfBv"
      }
    },
    {
      "cell_type": "code",
      "source": [
        "train_datagen = ImageDataGenerator(\n",
        "    rescale=1./255,\n",
        "    rotation_range=20,\n",
        "    width_shift_range=0.2,\n",
        "    height_shift_range=0.2,\n",
        "    shear_range=0.2,\n",
        "    zoom_range=0.2,\n",
        "    horizontal_flip=True,\n",
        "    fill_mode='nearest'\n",
        ")"
      ],
      "metadata": {
        "id": "WK1qNbwdj_d6"
      },
      "execution_count": null,
      "outputs": []
    },
    {
      "cell_type": "markdown",
      "source": [
        "## Improved Network Architecture\n",
        "Use a deeper network with more convolutional layers and additional dropout layers to prevent overfitting"
      ],
      "metadata": {
        "id": "QdA1xw86kpAB"
      }
    },
    {
      "cell_type": "code",
      "source": [
        "from tensorflow.keras import layers, models\n",
        "\n",
        "model = models.Sequential([\n",
        "    layers.Conv2D(32, (3, 3), activation='relu', input_shape=(128, 128, 3)),\n",
        "    layers.Conv2D(32, (3, 3), activation='relu'),\n",
        "    layers.MaxPooling2D((2, 2)),\n",
        "    layers.Dropout(0.25),\n",
        "\n",
        "    layers.Conv2D(64, (3, 3), activation='relu'),\n",
        "    layers.Conv2D(64, (3, 3), activation='relu'),\n",
        "    layers.MaxPooling2D((2, 2)),\n",
        "    layers.Dropout(0.25),\n",
        "\n",
        "    layers.Conv2D(128, (3, 3), activation='relu'),\n",
        "    layers.Conv2D(128, (3, 3), activation='relu'),\n",
        "    layers.MaxPooling2D((2, 2)),\n",
        "    layers.Dropout(0.25),\n",
        "\n",
        "    layers.Flatten(),\n",
        "    layers.Dense(512, activation='relu'),\n",
        "    layers.Dropout(0.5),\n",
        "    layers.Dense(4, activation='softmax')\n",
        "])\n",
        "\n",
        "model.compile(optimizer='adam', loss='categorical_crossentropy', metrics=['accuracy'])"
      ],
      "metadata": {
        "id": "yWkJLGEzj_gh"
      },
      "execution_count": null,
      "outputs": []
    },
    {
      "cell_type": "markdown",
      "source": [
        "## Use of Learning Rate Schedules and Callbacks\n",
        "Adjust the learning rate dynamically during training to converge faster and more reliably."
      ],
      "metadata": {
        "id": "FZN6SFKsk0nv"
      }
    },
    {
      "cell_type": "code",
      "source": [
        "from tensorflow.keras.callbacks import EarlyStopping, ReduceLROnPlateau\n",
        "\n",
        "early_stopping = EarlyStopping(monitor='val_loss', patience=10, restore_best_weights=True)\n",
        "reduce_lr = ReduceLROnPlateau(monitor='val_loss', factor=0.2, patience=5, min_lr=1e-6)"
      ],
      "metadata": {
        "id": "pQFTB1QOj_jM"
      },
      "execution_count": null,
      "outputs": []
    },
    {
      "cell_type": "markdown",
      "source": [
        "##Transfer Learning Using VGG16 model\n",
        "\n",
        "##VGG16 model:\n",
        "VGG16 is a straightforward but powerful CNN model used for image classification tasks. It has 16 layers with learnable weights, including 13 convolutional layers that detect features in images and 3 fully connected layers that classify the images. It is known for its simplicity, uniform architecture, and effectiveness in recognizing objects in images.\n",
        "\n",
        "The VGG16 model takes an input image of size 224x224 pixels with 3 color channels (RGB). But due to computational constraint, I will be using an input size of 128x128 with 3 color channels.\n",
        "\n",
        "Transfer learning is particularly useful when the dataset is small."
      ],
      "metadata": {
        "id": "e_5NEk3Xk9pc"
      }
    },
    {
      "cell_type": "code",
      "source": [
        "from tensorflow.keras.applications import VGG16\n",
        "\n",
        "base_model = VGG16(weights='imagenet', include_top=False, input_shape=(128, 128, 3))\n",
        "\n",
        "model = models.Sequential([\n",
        "    base_model,\n",
        "    layers.Flatten(),\n",
        "    layers.Dense(512, activation='relu'),\n",
        "    layers.Dropout(0.5),\n",
        "    layers.Dense(4, activation='softmax')\n",
        "])\n",
        "\n",
        "# Freeze the layers of the base model\n",
        "for layer in base_model.layers:\n",
        "    layer.trainable = False\n",
        "\n",
        "model.compile(optimizer='adam', loss='categorical_crossentropy', metrics=['accuracy'])\n"
      ],
      "metadata": {
        "colab": {
          "base_uri": "https://localhost:8080/"
        },
        "id": "0p2Dg79Ej_lx",
        "outputId": "1084bfba-8d26-45e9-8f1b-03107ad9ef94"
      },
      "execution_count": null,
      "outputs": [
        {
          "output_type": "stream",
          "name": "stdout",
          "text": [
            "Downloading data from https://storage.googleapis.com/tensorflow/keras-applications/vgg16/vgg16_weights_tf_dim_ordering_tf_kernels_notop.h5\n",
            "58889256/58889256 [==============================] - 4s 0us/step\n"
          ]
        }
      ]
    },
    {
      "cell_type": "code",
      "source": [],
      "metadata": {
        "id": "4KnmuiAWlC75"
      },
      "execution_count": null,
      "outputs": []
    },
    {
      "cell_type": "markdown",
      "source": [
        "## Model Training with Enhanced Techniques\n",
        "Combine the above improvements and train the model:"
      ],
      "metadata": {
        "id": "TpAELW4ulI0g"
      }
    },
    {
      "cell_type": "code",
      "source": [
        "history = model.fit(\n",
        "    train_generator,\n",
        "    epochs=20,\n",
        "    validation_data=valid_generator,\n",
        "    callbacks=[early_stopping, reduce_lr]\n",
        ")"
      ],
      "metadata": {
        "colab": {
          "base_uri": "https://localhost:8080/"
        },
        "id": "Q30Y2cVWlC-f",
        "outputId": "92839473-a55b-4b68-9099-b2e1f4a6c108"
      },
      "execution_count": null,
      "outputs": [
        {
          "output_type": "stream",
          "name": "stdout",
          "text": [
            "Epoch 1/20\n",
            "20/20 [==============================] - 14s 418ms/step - loss: 1.8620 - accuracy: 0.4796 - val_loss: 0.9522 - val_accuracy: 0.5139 - lr: 0.0010\n",
            "Epoch 2/20\n",
            "20/20 [==============================] - 5s 244ms/step - loss: 0.6890 - accuracy: 0.7129 - val_loss: 0.6591 - val_accuracy: 0.7361 - lr: 0.0010\n",
            "Epoch 3/20\n",
            "20/20 [==============================] - 7s 379ms/step - loss: 0.4309 - accuracy: 0.8450 - val_loss: 0.5231 - val_accuracy: 0.8333 - lr: 0.0010\n",
            "Epoch 4/20\n",
            "20/20 [==============================] - 5s 244ms/step - loss: 0.3222 - accuracy: 0.8874 - val_loss: 0.4438 - val_accuracy: 0.8611 - lr: 0.0010\n",
            "Epoch 5/20\n",
            "20/20 [==============================] - 5s 247ms/step - loss: 0.2544 - accuracy: 0.9103 - val_loss: 0.6732 - val_accuracy: 0.7361 - lr: 0.0010\n",
            "Epoch 6/20\n",
            "20/20 [==============================] - 6s 285ms/step - loss: 0.2980 - accuracy: 0.8809 - val_loss: 0.6272 - val_accuracy: 0.7639 - lr: 0.0010\n",
            "Epoch 7/20\n",
            "20/20 [==============================] - 5s 245ms/step - loss: 0.2238 - accuracy: 0.9364 - val_loss: 0.3975 - val_accuracy: 0.8333 - lr: 0.0010\n",
            "Epoch 8/20\n",
            "20/20 [==============================] - 6s 303ms/step - loss: 0.1895 - accuracy: 0.9364 - val_loss: 0.4094 - val_accuracy: 0.8194 - lr: 0.0010\n",
            "Epoch 9/20\n",
            "20/20 [==============================] - 5s 256ms/step - loss: 0.1393 - accuracy: 0.9674 - val_loss: 0.3709 - val_accuracy: 0.8472 - lr: 0.0010\n",
            "Epoch 10/20\n",
            "20/20 [==============================] - 6s 302ms/step - loss: 0.1324 - accuracy: 0.9560 - val_loss: 0.3359 - val_accuracy: 0.8750 - lr: 0.0010\n",
            "Epoch 11/20\n",
            "20/20 [==============================] - 5s 249ms/step - loss: 0.0910 - accuracy: 0.9772 - val_loss: 0.3398 - val_accuracy: 0.8889 - lr: 0.0010\n",
            "Epoch 12/20\n",
            "20/20 [==============================] - 6s 291ms/step - loss: 0.0794 - accuracy: 0.9853 - val_loss: 0.3612 - val_accuracy: 0.8611 - lr: 0.0010\n",
            "Epoch 13/20\n",
            "20/20 [==============================] - 5s 254ms/step - loss: 0.0644 - accuracy: 0.9869 - val_loss: 0.3597 - val_accuracy: 0.8750 - lr: 0.0010\n",
            "Epoch 14/20\n",
            "20/20 [==============================] - 6s 295ms/step - loss: 0.0581 - accuracy: 0.9918 - val_loss: 0.3302 - val_accuracy: 0.8889 - lr: 0.0010\n",
            "Epoch 15/20\n",
            "20/20 [==============================] - 5s 251ms/step - loss: 0.0523 - accuracy: 0.9918 - val_loss: 0.2899 - val_accuracy: 0.8889 - lr: 0.0010\n",
            "Epoch 16/20\n",
            "20/20 [==============================] - 6s 287ms/step - loss: 0.0463 - accuracy: 0.9902 - val_loss: 0.3289 - val_accuracy: 0.8750 - lr: 0.0010\n",
            "Epoch 17/20\n",
            "20/20 [==============================] - 6s 293ms/step - loss: 0.0565 - accuracy: 0.9918 - val_loss: 0.2951 - val_accuracy: 0.8889 - lr: 0.0010\n",
            "Epoch 18/20\n",
            "20/20 [==============================] - 5s 257ms/step - loss: 0.0337 - accuracy: 0.9967 - val_loss: 0.3574 - val_accuracy: 0.8750 - lr: 0.0010\n",
            "Epoch 19/20\n",
            "20/20 [==============================] - 5s 247ms/step - loss: 0.0333 - accuracy: 0.9967 - val_loss: 0.3215 - val_accuracy: 0.9028 - lr: 0.0010\n",
            "Epoch 20/20\n",
            "20/20 [==============================] - 6s 292ms/step - loss: 0.0273 - accuracy: 0.9967 - val_loss: 0.2983 - val_accuracy: 0.9167 - lr: 0.0010\n"
          ]
        }
      ]
    },
    {
      "cell_type": "code",
      "source": [],
      "metadata": {
        "id": "4HkF-ryllDB5"
      },
      "execution_count": null,
      "outputs": []
    },
    {
      "cell_type": "markdown",
      "source": [
        "### Evaluate the model"
      ],
      "metadata": {
        "id": "BalXqVBNlslK"
      }
    },
    {
      "cell_type": "code",
      "source": [
        "test_loss, test_acc = model.evaluate(test_generator)\n",
        "print(f\"Test accuracy: {test_acc}\")"
      ],
      "metadata": {
        "colab": {
          "base_uri": "https://localhost:8080/"
        },
        "id": "M51N14kElqDk",
        "outputId": "1e49cac7-4fd1-4a60-f4cf-69e70634ea26"
      },
      "execution_count": null,
      "outputs": [
        {
          "output_type": "stream",
          "name": "stdout",
          "text": [
            "10/10 [==============================] - 5s 558ms/step - loss: 1.2320 - accuracy: 0.6127\n",
            "Test accuracy: 0.6126984357833862\n"
          ]
        }
      ]
    },
    {
      "cell_type": "markdown",
      "source": [
        "This enhanced model makes use of Tranfer Learning by utilizing a pretrained model VGG-16 and achieves accuracy of 61.27%. But still the model is not performing very well."
      ],
      "metadata": {
        "id": "VP9lGNwpmTDD"
      }
    },
    {
      "cell_type": "code",
      "source": [],
      "metadata": {
        "id": "_5UPFNJWOV3o"
      },
      "execution_count": null,
      "outputs": []
    },
    {
      "cell_type": "markdown",
      "source": [
        "## Customized SERES VGG16 Model\n",
        "\n",
        "SERES_VGG16 is an enhanced version of the VGG16 neural network model. It combines the structure of VGG16 with additional components called Squeeze-and-Excitation (SE) blocks to improve its performance.\n",
        "\n",
        "VGG16 Backbone:\n",
        "\n",
        "The model starts with the VGG16 structure, which is good at identifying features in images through multiple layers of convolutions and pooling.\n",
        "\n",
        "SE Blocks:\n",
        "\n",
        "SE blocks are added to the VGG16 structure to make it better at distinguishing important features.\n",
        "\n",
        "These blocks \"squeeze\" the information across each channel and then \"excite\" the network to focus more on the significant channels."
      ],
      "metadata": {
        "id": "MNjHULAidLNu"
      }
    },
    {
      "cell_type": "code",
      "source": [
        "from tensorflow.keras.applications import VGG16\n",
        "from tensorflow.keras.models import Model\n",
        "from tensorflow.keras.layers import Input, Conv2D, BatchNormalization, Activation, Add\n",
        "from tensorflow.keras.layers import Flatten, Dense, GlobalAveragePooling2D, Reshape, Multiply\n",
        "from tensorflow.keras.optimizers import SGD\n",
        "from sklearn.metrics import confusion_matrix, classification_report"
      ],
      "metadata": {
        "id": "J3xXWb-NPPw8"
      },
      "execution_count": null,
      "outputs": []
    },
    {
      "cell_type": "markdown",
      "source": [
        "Once again, we do improvised data augmentation, so that the diversity can be captured in better way."
      ],
      "metadata": {
        "id": "f6TkL96QdZZk"
      }
    },
    {
      "cell_type": "code",
      "source": [
        "# Define Input Shape and Number of Classes\n",
        "input_shape = (128,128,3)\n",
        "num_classes = 4\n",
        "\n",
        "#Data Augmentation for Training Data\n",
        "train_datagen = ImageDataGenerator(\n",
        "    dtype='float32',\n",
        "    rotation_range=10,\n",
        "    width_shift_range=0.2,\n",
        "    height_shift_range=0.2,\n",
        "    shear_range=0.2,\n",
        "    zoom_range=0.2,\n",
        "    horizontal_flip=True,\n",
        "    vertical_flip=False\n",
        ")\n",
        "\n",
        "# Data Generators for Validation and Testing Data\n",
        "val_datagen = ImageDataGenerator(dtype='float32')\n",
        "test_datagen = ImageDataGenerator(dtype='float32')\n",
        "\n",
        "\n",
        "# Create Training Data Generator\n",
        "train_generator = train_datagen.flow_from_directory(\n",
        "    train_dir,\n",
        "    target_size=(128,128),\n",
        "    batch_size=32,\n",
        "    class_mode='categorical',\n",
        ")\n",
        "\n",
        "# Create Testing Data Generator\n",
        "test_generator = test_datagen.flow_from_directory(\n",
        "    test_dir,\n",
        "    target_size=(128,128),\n",
        "    batch_size=32,\n",
        "    class_mode='categorical',\n",
        "    shuffle = False,\n",
        ")\n",
        "\n",
        "# Create Validation Data Generator\n",
        "validation_generator = val_datagen.flow_from_directory(\n",
        "    valid_dir,\n",
        "    target_size=(128,128),\n",
        "    batch_size=32,\n",
        "    class_mode='categorical',\n",
        ")"
      ],
      "metadata": {
        "id": "Bw2EmxD8dKYD",
        "colab": {
          "base_uri": "https://localhost:8080/"
        },
        "outputId": "2c707d9b-d33b-4bc0-957f-34d878e02a8c"
      },
      "execution_count": null,
      "outputs": [
        {
          "output_type": "stream",
          "name": "stdout",
          "text": [
            "Found 613 images belonging to 4 classes.\n",
            "Found 315 images belonging to 4 classes.\n",
            "Found 72 images belonging to 4 classes.\n"
          ]
        }
      ]
    },
    {
      "cell_type": "markdown",
      "source": [
        "## Outline of Training SERES VGG16\n",
        "\n",
        "Integration of the SE Block into the Residual Block and incorporating it into the Last Two Output Layers of a Pre-trained VGG16 Model"
      ],
      "metadata": {
        "id": "wVKDJEq0dZfa"
      }
    },
    {
      "cell_type": "markdown",
      "source": [
        "## Squeeze-and-Excitation Block:\n",
        "\n",
        "The squeeze_excitation_block function implements a squeeze-and-excitation block, which enhances the representational power of a neural network by adaptively recalibrating channel-wise feature responses."
      ],
      "metadata": {
        "id": "vZTrzbDzG-RS"
      }
    },
    {
      "cell_type": "code",
      "source": [
        "def squeeze_excitation_block(input, ratio=16):\n",
        "    init = input\n",
        "    channel_axis = -1\n",
        "    filters = init.shape[channel_axis]\n",
        "    se_shape = (1, 1, filters)\n",
        "\n",
        "    se = GlobalAveragePooling2D()(init)\n",
        "    se = Reshape(se_shape)(se)\n",
        "    se = Dense(filters // ratio, activation='relu', kernel_initializer='he_normal', use_bias=False)(se)\n",
        "    se = Dense(filters, activation='sigmoid', kernel_initializer='he_normal', use_bias=False)(se)\n",
        "\n",
        "    x = Multiply()([init, se])\n",
        "    return x"
      ],
      "metadata": {
        "id": "0c4am7-GF5IF"
      },
      "execution_count": null,
      "outputs": []
    },
    {
      "cell_type": "markdown",
      "source": [
        "## Residual Block\n",
        "The residual_block function creates a residual block with two convolutional layers and a squeeze-and-excitation block. It helps in training deep networks by allowing gradients to flow through the shortcut connections."
      ],
      "metadata": {
        "id": "80Xnyz63HI_c"
      }
    },
    {
      "cell_type": "code",
      "source": [
        "def residual_block(x, filters, kernel_size, stride):\n",
        "    shortcut = x\n",
        "    x = Conv2D(filters, kernel_size, strides=stride, padding='same')(x)\n",
        "    x = BatchNormalization()(x)\n",
        "    x = Activation('relu')(x)\n",
        "    x = Conv2D(filters, kernel_size, padding='same')(x)\n",
        "    x = BatchNormalization()(x)\n",
        "    x = squeeze_excitation_block(x)\n",
        "    x = Add()([x, shortcut])\n",
        "    x = Activation('relu')(x)\n",
        "    return x"
      ],
      "metadata": {
        "id": "H22NjwD9T4cF"
      },
      "execution_count": null,
      "outputs": []
    },
    {
      "cell_type": "markdown",
      "source": [
        "First, let us make sure that we have enough free space."
      ],
      "metadata": {
        "id": "kiX0BVa6TyoO"
      }
    },
    {
      "cell_type": "code",
      "source": [
        "# Ensure the model runs within 50GB disk space\n",
        "import os\n",
        "import psutil\n",
        "\n",
        "def check_disk_usage():\n",
        "    usage = psutil.disk_usage('/')\n",
        "    free_space_gb = usage.free / (1024 ** 3)\n",
        "    print(f\"Free disk space: {free_space_gb:.2f} GB\")\n",
        "    if free_space_gb < 50:\n",
        "        raise RuntimeError(\"Not enough disk space. Please ensure at least 50GB of free space is available.\")\n",
        "\n",
        "check_disk_usage()"
      ],
      "metadata": {
        "colab": {
          "base_uri": "https://localhost:8080/"
        },
        "id": "XuynTJw1fhR9",
        "outputId": "2fe5b7cd-478e-48ce-8f21-dffc7f78906c"
      },
      "execution_count": null,
      "outputs": [
        {
          "output_type": "stream",
          "name": "stdout",
          "text": [
            "Free disk space: 50.55 GB\n"
          ]
        }
      ]
    },
    {
      "cell_type": "code",
      "source": [
        "# Change input shape to (128, 128, 3)\n",
        "input_tensor = Input(shape=(128, 128, 3))\n",
        "vgg16 = VGG16(include_top=False, weights='imagenet', input_tensor=input_tensor)\n",
        "\n",
        "x = vgg16.layers[-1].output\n",
        "x = residual_block(x, 512, 3, 1)\n",
        "x = residual_block(x, 512, 3, 1)\n",
        "x = BatchNormalization()(x)\n",
        "x = Flatten()(x)\n",
        "x = Dense(1024, activation='relu')(x)\n",
        "x = Dense(512, activation='relu')(x)\n",
        "predictions = Dense(4, activation='softmax')(x)\n",
        "model = Model(inputs=input_tensor, outputs=predictions)\n",
        "model.summary()"
      ],
      "metadata": {
        "colab": {
          "base_uri": "https://localhost:8080/"
        },
        "id": "tDOBax3mUADM",
        "outputId": "44ee21c9-661f-4a00-8ddf-f573071704a3"
      },
      "execution_count": null,
      "outputs": [
        {
          "output_type": "stream",
          "name": "stdout",
          "text": [
            "Model: \"model_2\"\n",
            "__________________________________________________________________________________________________\n",
            " Layer (type)                Output Shape                 Param #   Connected to                  \n",
            "==================================================================================================\n",
            " input_3 (InputLayer)        [(None, 128, 128, 3)]        0         []                            \n",
            "                                                                                                  \n",
            " block1_conv1 (Conv2D)       (None, 128, 128, 64)         1792      ['input_3[0][0]']             \n",
            "                                                                                                  \n",
            " block1_conv2 (Conv2D)       (None, 128, 128, 64)         36928     ['block1_conv1[0][0]']        \n",
            "                                                                                                  \n",
            " block1_pool (MaxPooling2D)  (None, 64, 64, 64)           0         ['block1_conv2[0][0]']        \n",
            "                                                                                                  \n",
            " block2_conv1 (Conv2D)       (None, 64, 64, 128)          73856     ['block1_pool[0][0]']         \n",
            "                                                                                                  \n",
            " block2_conv2 (Conv2D)       (None, 64, 64, 128)          147584    ['block2_conv1[0][0]']        \n",
            "                                                                                                  \n",
            " block2_pool (MaxPooling2D)  (None, 32, 32, 128)          0         ['block2_conv2[0][0]']        \n",
            "                                                                                                  \n",
            " block3_conv1 (Conv2D)       (None, 32, 32, 256)          295168    ['block2_pool[0][0]']         \n",
            "                                                                                                  \n",
            " block3_conv2 (Conv2D)       (None, 32, 32, 256)          590080    ['block3_conv1[0][0]']        \n",
            "                                                                                                  \n",
            " block3_conv3 (Conv2D)       (None, 32, 32, 256)          590080    ['block3_conv2[0][0]']        \n",
            "                                                                                                  \n",
            " block3_pool (MaxPooling2D)  (None, 16, 16, 256)          0         ['block3_conv3[0][0]']        \n",
            "                                                                                                  \n",
            " block4_conv1 (Conv2D)       (None, 16, 16, 512)          1180160   ['block3_pool[0][0]']         \n",
            "                                                                                                  \n",
            " block4_conv2 (Conv2D)       (None, 16, 16, 512)          2359808   ['block4_conv1[0][0]']        \n",
            "                                                                                                  \n",
            " block4_conv3 (Conv2D)       (None, 16, 16, 512)          2359808   ['block4_conv2[0][0]']        \n",
            "                                                                                                  \n",
            " block4_pool (MaxPooling2D)  (None, 8, 8, 512)            0         ['block4_conv3[0][0]']        \n",
            "                                                                                                  \n",
            " block5_conv1 (Conv2D)       (None, 8, 8, 512)            2359808   ['block4_pool[0][0]']         \n",
            "                                                                                                  \n",
            " block5_conv2 (Conv2D)       (None, 8, 8, 512)            2359808   ['block5_conv1[0][0]']        \n",
            "                                                                                                  \n",
            " block5_conv3 (Conv2D)       (None, 8, 8, 512)            2359808   ['block5_conv2[0][0]']        \n",
            "                                                                                                  \n",
            " block5_pool (MaxPooling2D)  (None, 4, 4, 512)            0         ['block5_conv3[0][0]']        \n",
            "                                                                                                  \n",
            " conv2d_4 (Conv2D)           (None, 4, 4, 512)            2359808   ['block5_pool[0][0]']         \n",
            "                                                                                                  \n",
            " batch_normalization_5 (Bat  (None, 4, 4, 512)            2048      ['conv2d_4[0][0]']            \n",
            " chNormalization)                                                                                 \n",
            "                                                                                                  \n",
            " activation_4 (Activation)   (None, 4, 4, 512)            0         ['batch_normalization_5[0][0]'\n",
            "                                                                    ]                             \n",
            "                                                                                                  \n",
            " conv2d_5 (Conv2D)           (None, 4, 4, 512)            2359808   ['activation_4[0][0]']        \n",
            "                                                                                                  \n",
            " batch_normalization_6 (Bat  (None, 4, 4, 512)            2048      ['conv2d_5[0][0]']            \n",
            " chNormalization)                                                                                 \n",
            "                                                                                                  \n",
            " global_average_pooling2d_8  (None, 512)                  0         ['batch_normalization_6[0][0]'\n",
            "  (GlobalAveragePooling2D)                                          ]                             \n",
            "                                                                                                  \n",
            " reshape_7 (Reshape)         (None, 1, 1, 512)            0         ['global_average_pooling2d_8[0\n",
            "                                                                    ][0]']                        \n",
            "                                                                                                  \n",
            " dense_19 (Dense)            (None, 1, 1, 32)             16384     ['reshape_7[0][0]']           \n",
            "                                                                                                  \n",
            " dense_20 (Dense)            (None, 1, 1, 512)            16384     ['dense_19[0][0]']            \n",
            "                                                                                                  \n",
            " multiply_7 (Multiply)       (None, 4, 4, 512)            0         ['batch_normalization_6[0][0]'\n",
            "                                                                    , 'dense_20[0][0]']           \n",
            "                                                                                                  \n",
            " add_2 (Add)                 (None, 4, 4, 512)            0         ['multiply_7[0][0]',          \n",
            "                                                                     'block5_pool[0][0]']         \n",
            "                                                                                                  \n",
            " activation_5 (Activation)   (None, 4, 4, 512)            0         ['add_2[0][0]']               \n",
            "                                                                                                  \n",
            " conv2d_6 (Conv2D)           (None, 4, 4, 512)            2359808   ['activation_5[0][0]']        \n",
            "                                                                                                  \n",
            " batch_normalization_7 (Bat  (None, 4, 4, 512)            2048      ['conv2d_6[0][0]']            \n",
            " chNormalization)                                                                                 \n",
            "                                                                                                  \n",
            " activation_6 (Activation)   (None, 4, 4, 512)            0         ['batch_normalization_7[0][0]'\n",
            "                                                                    ]                             \n",
            "                                                                                                  \n",
            " conv2d_7 (Conv2D)           (None, 4, 4, 512)            2359808   ['activation_6[0][0]']        \n",
            "                                                                                                  \n",
            " batch_normalization_8 (Bat  (None, 4, 4, 512)            2048      ['conv2d_7[0][0]']            \n",
            " chNormalization)                                                                                 \n",
            "                                                                                                  \n",
            " global_average_pooling2d_9  (None, 512)                  0         ['batch_normalization_8[0][0]'\n",
            "  (GlobalAveragePooling2D)                                          ]                             \n",
            "                                                                                                  \n",
            " reshape_8 (Reshape)         (None, 1, 1, 512)            0         ['global_average_pooling2d_9[0\n",
            "                                                                    ][0]']                        \n",
            "                                                                                                  \n",
            " dense_21 (Dense)            (None, 1, 1, 32)             16384     ['reshape_8[0][0]']           \n",
            "                                                                                                  \n",
            " dense_22 (Dense)            (None, 1, 1, 512)            16384     ['dense_21[0][0]']            \n",
            "                                                                                                  \n",
            " multiply_8 (Multiply)       (None, 4, 4, 512)            0         ['batch_normalization_8[0][0]'\n",
            "                                                                    , 'dense_22[0][0]']           \n",
            "                                                                                                  \n",
            " add_3 (Add)                 (None, 4, 4, 512)            0         ['multiply_8[0][0]',          \n",
            "                                                                     'activation_5[0][0]']        \n",
            "                                                                                                  \n",
            " activation_7 (Activation)   (None, 4, 4, 512)            0         ['add_3[0][0]']               \n",
            "                                                                                                  \n",
            " batch_normalization_9 (Bat  (None, 4, 4, 512)            2048      ['activation_7[0][0]']        \n",
            " chNormalization)                                                                                 \n",
            "                                                                                                  \n",
            " flatten_1 (Flatten)         (None, 8192)                 0         ['batch_normalization_9[0][0]'\n",
            "                                                                    ]                             \n",
            "                                                                                                  \n",
            " dense_23 (Dense)            (None, 1024)                 8389632   ['flatten_1[0][0]']           \n",
            "                                                                                                  \n",
            " dense_24 (Dense)            (None, 512)                  524800    ['dense_23[0][0]']            \n",
            "                                                                                                  \n",
            " dense_25 (Dense)            (None, 4)                    2052      ['dense_24[0][0]']            \n",
            "                                                                                                  \n",
            "==================================================================================================\n",
            "Total params: 33146180 (126.44 MB)\n",
            "Trainable params: 33141060 (126.42 MB)\n",
            "Non-trainable params: 5120 (20.00 KB)\n",
            "__________________________________________________________________________________________________\n"
          ]
        }
      ]
    },
    {
      "cell_type": "markdown",
      "source": [],
      "metadata": {
        "id": "RO9DPLyqUARM"
      }
    },
    {
      "cell_type": "code",
      "source": [
        "optimizer = tf.keras.optimizers.SGD()\n",
        "model.compile(optimizer=optimizer, loss='categorical_crossentropy', metrics=['accuracy'])\n",
        "\n",
        "epochs = 100\n",
        "history = model.fit(\n",
        "    train_generator,\n",
        "    validation_data=validation_generator,\n",
        "    epochs=epochs,\n",
        "    verbose=1\n",
        ")"
      ],
      "metadata": {
        "colab": {
          "base_uri": "https://localhost:8080/"
        },
        "id": "dzXoUrUJUA5W",
        "outputId": "b0abb189-57ae-4e77-c983-5ebeb2508f15"
      },
      "execution_count": null,
      "outputs": [
        {
          "output_type": "stream",
          "name": "stdout",
          "text": [
            "Epoch 1/100\n",
            "20/20 [==============================] - 13s 418ms/step - loss: 2.1134 - accuracy: 0.4046 - val_loss: 9.5361 - val_accuracy: 0.1806\n",
            "Epoch 2/100\n",
            "20/20 [==============================] - 9s 441ms/step - loss: 0.9934 - accuracy: 0.5856 - val_loss: 8.6844 - val_accuracy: 0.1806\n",
            "Epoch 3/100\n",
            "20/20 [==============================] - 9s 466ms/step - loss: 1.0252 - accuracy: 0.5579 - val_loss: 1.9934 - val_accuracy: 0.1944\n",
            "Epoch 4/100\n",
            "20/20 [==============================] - 9s 437ms/step - loss: 0.8787 - accuracy: 0.5889 - val_loss: 1.4872 - val_accuracy: 0.2222\n",
            "Epoch 5/100\n",
            "20/20 [==============================] - 10s 486ms/step - loss: 0.8750 - accuracy: 0.5546 - val_loss: 3.2531 - val_accuracy: 0.1944\n",
            "Epoch 6/100\n",
            "20/20 [==============================] - 9s 461ms/step - loss: 0.8415 - accuracy: 0.6003 - val_loss: 1.8143 - val_accuracy: 0.2222\n",
            "Epoch 7/100\n",
            "20/20 [==============================] - 8s 394ms/step - loss: 0.9646 - accuracy: 0.5824 - val_loss: 3.8809 - val_accuracy: 0.1944\n",
            "Epoch 8/100\n",
            "20/20 [==============================] - 8s 401ms/step - loss: 0.9452 - accuracy: 0.5628 - val_loss: 1.2290 - val_accuracy: 0.3750\n",
            "Epoch 9/100\n",
            "20/20 [==============================] - 9s 441ms/step - loss: 0.8746 - accuracy: 0.6378 - val_loss: 1.0625 - val_accuracy: 0.4583\n",
            "Epoch 10/100\n",
            "20/20 [==============================] - 8s 415ms/step - loss: 0.8227 - accuracy: 0.6150 - val_loss: 1.0461 - val_accuracy: 0.4861\n",
            "Epoch 11/100\n",
            "20/20 [==============================] - 8s 373ms/step - loss: 0.8422 - accuracy: 0.6020 - val_loss: 1.8338 - val_accuracy: 0.2500\n",
            "Epoch 12/100\n",
            "20/20 [==============================] - 14s 674ms/step - loss: 0.9013 - accuracy: 0.5791 - val_loss: 1.3626 - val_accuracy: 0.5000\n",
            "Epoch 13/100\n",
            "20/20 [==============================] - 9s 439ms/step - loss: 0.8092 - accuracy: 0.6378 - val_loss: 1.0776 - val_accuracy: 0.4583\n",
            "Epoch 14/100\n",
            "20/20 [==============================] - 8s 418ms/step - loss: 0.8076 - accuracy: 0.6574 - val_loss: 1.0170 - val_accuracy: 0.5139\n",
            "Epoch 15/100\n",
            "20/20 [==============================] - 12s 559ms/step - loss: 0.8106 - accuracy: 0.6639 - val_loss: 0.9528 - val_accuracy: 0.4861\n",
            "Epoch 16/100\n",
            "20/20 [==============================] - 10s 512ms/step - loss: 0.7393 - accuracy: 0.6493 - val_loss: 1.4423 - val_accuracy: 0.2778\n",
            "Epoch 17/100\n",
            "20/20 [==============================] - 11s 529ms/step - loss: 1.0548 - accuracy: 0.5220 - val_loss: 1.5037 - val_accuracy: 0.4028\n",
            "Epoch 18/100\n",
            "20/20 [==============================] - 8s 373ms/step - loss: 0.8697 - accuracy: 0.5922 - val_loss: 2.1546 - val_accuracy: 0.2361\n",
            "Epoch 19/100\n",
            "20/20 [==============================] - 11s 533ms/step - loss: 0.8298 - accuracy: 0.6134 - val_loss: 0.9695 - val_accuracy: 0.5278\n",
            "Epoch 20/100\n",
            "20/20 [==============================] - 8s 384ms/step - loss: 0.7816 - accuracy: 0.6411 - val_loss: 1.0164 - val_accuracy: 0.4861\n",
            "Epoch 21/100\n",
            "20/20 [==============================] - 8s 374ms/step - loss: 0.8451 - accuracy: 0.6232 - val_loss: 1.6011 - val_accuracy: 0.2500\n",
            "Epoch 22/100\n",
            "20/20 [==============================] - 10s 511ms/step - loss: 0.8821 - accuracy: 0.5644 - val_loss: 1.2706 - val_accuracy: 0.3750\n",
            "Epoch 23/100\n",
            "20/20 [==============================] - 8s 414ms/step - loss: 0.8150 - accuracy: 0.6574 - val_loss: 3.9915 - val_accuracy: 0.1944\n",
            "Epoch 24/100\n",
            "20/20 [==============================] - 8s 377ms/step - loss: 0.8509 - accuracy: 0.5954 - val_loss: 1.3303 - val_accuracy: 0.4028\n",
            "Epoch 25/100\n",
            "20/20 [==============================] - 8s 396ms/step - loss: 0.6963 - accuracy: 0.6770 - val_loss: 1.2704 - val_accuracy: 0.4861\n",
            "Epoch 26/100\n",
            "20/20 [==============================] - 9s 438ms/step - loss: 0.6422 - accuracy: 0.7162 - val_loss: 0.8604 - val_accuracy: 0.5694\n",
            "Epoch 27/100\n",
            "20/20 [==============================] - 8s 394ms/step - loss: 0.5705 - accuracy: 0.7537 - val_loss: 1.5203 - val_accuracy: 0.3889\n",
            "Epoch 28/100\n",
            "20/20 [==============================] - 9s 437ms/step - loss: 0.6504 - accuracy: 0.7390 - val_loss: 3.0482 - val_accuracy: 0.1944\n",
            "Epoch 29/100\n",
            "20/20 [==============================] - 9s 435ms/step - loss: 0.6143 - accuracy: 0.7520 - val_loss: 0.8266 - val_accuracy: 0.5833\n",
            "Epoch 30/100\n",
            "20/20 [==============================] - 8s 395ms/step - loss: 0.4901 - accuracy: 0.7961 - val_loss: 1.1030 - val_accuracy: 0.4861\n",
            "Epoch 31/100\n",
            "20/20 [==============================] - 9s 434ms/step - loss: 0.5033 - accuracy: 0.7945 - val_loss: 0.7785 - val_accuracy: 0.7639\n",
            "Epoch 32/100\n",
            "20/20 [==============================] - 9s 444ms/step - loss: 0.5592 - accuracy: 0.7814 - val_loss: 0.9674 - val_accuracy: 0.5972\n",
            "Epoch 33/100\n",
            "20/20 [==============================] - 8s 377ms/step - loss: 0.5284 - accuracy: 0.7896 - val_loss: 0.9726 - val_accuracy: 0.5556\n",
            "Epoch 34/100\n",
            "20/20 [==============================] - 9s 445ms/step - loss: 0.4730 - accuracy: 0.8173 - val_loss: 1.5811 - val_accuracy: 0.3750\n",
            "Epoch 35/100\n",
            "20/20 [==============================] - 9s 440ms/step - loss: 0.5692 - accuracy: 0.7602 - val_loss: 1.1267 - val_accuracy: 0.4722\n",
            "Epoch 36/100\n",
            "20/20 [==============================] - 8s 369ms/step - loss: 0.7211 - accuracy: 0.6966 - val_loss: 1.3072 - val_accuracy: 0.5000\n",
            "Epoch 37/100\n",
            "20/20 [==============================] - 9s 439ms/step - loss: 0.4326 - accuracy: 0.8287 - val_loss: 1.0249 - val_accuracy: 0.5972\n",
            "Epoch 38/100\n",
            "20/20 [==============================] - 8s 371ms/step - loss: 0.3351 - accuracy: 0.8711 - val_loss: 0.8542 - val_accuracy: 0.7222\n",
            "Epoch 39/100\n",
            "20/20 [==============================] - 8s 374ms/step - loss: 0.3799 - accuracy: 0.8515 - val_loss: 0.9074 - val_accuracy: 0.6528\n",
            "Epoch 40/100\n",
            "20/20 [==============================] - 8s 426ms/step - loss: 0.3435 - accuracy: 0.8630 - val_loss: 1.4931 - val_accuracy: 0.4306\n",
            "Epoch 41/100\n",
            "20/20 [==============================] - 9s 472ms/step - loss: 0.3311 - accuracy: 0.8695 - val_loss: 2.1636 - val_accuracy: 0.4861\n",
            "Epoch 42/100\n",
            "20/20 [==============================] - 9s 441ms/step - loss: 0.4023 - accuracy: 0.8271 - val_loss: 0.6987 - val_accuracy: 0.7222\n",
            "Epoch 43/100\n",
            "20/20 [==============================] - 8s 390ms/step - loss: 0.3088 - accuracy: 0.8940 - val_loss: 3.6873 - val_accuracy: 0.3889\n",
            "Epoch 44/100\n",
            "20/20 [==============================] - 9s 440ms/step - loss: 0.4467 - accuracy: 0.8450 - val_loss: 3.4641 - val_accuracy: 0.2083\n",
            "Epoch 45/100\n",
            "20/20 [==============================] - 8s 383ms/step - loss: 0.3601 - accuracy: 0.8646 - val_loss: 0.7862 - val_accuracy: 0.7639\n",
            "Epoch 46/100\n",
            "20/20 [==============================] - 9s 416ms/step - loss: 0.1943 - accuracy: 0.9413 - val_loss: 1.4428 - val_accuracy: 0.5694\n",
            "Epoch 47/100\n",
            "20/20 [==============================] - 9s 443ms/step - loss: 0.1666 - accuracy: 0.9429 - val_loss: 0.8422 - val_accuracy: 0.7639\n",
            "Epoch 48/100\n",
            "20/20 [==============================] - 8s 377ms/step - loss: 0.3643 - accuracy: 0.8825 - val_loss: 0.6463 - val_accuracy: 0.8333\n",
            "Epoch 49/100\n",
            "20/20 [==============================] - 9s 451ms/step - loss: 0.3313 - accuracy: 0.8711 - val_loss: 0.6876 - val_accuracy: 0.7917\n",
            "Epoch 50/100\n",
            "20/20 [==============================] - 8s 416ms/step - loss: 0.2348 - accuracy: 0.9217 - val_loss: 2.9920 - val_accuracy: 0.4722\n",
            "Epoch 51/100\n",
            "20/20 [==============================] - 8s 375ms/step - loss: 0.4039 - accuracy: 0.8450 - val_loss: 0.8705 - val_accuracy: 0.7222\n",
            "Epoch 52/100\n",
            "20/20 [==============================] - 9s 435ms/step - loss: 0.1961 - accuracy: 0.9217 - val_loss: 0.8028 - val_accuracy: 0.7917\n",
            "Epoch 53/100\n",
            "20/20 [==============================] - 8s 421ms/step - loss: 0.2551 - accuracy: 0.9086 - val_loss: 0.8043 - val_accuracy: 0.6944\n",
            "Epoch 54/100\n",
            "20/20 [==============================] - 8s 371ms/step - loss: 0.2155 - accuracy: 0.9217 - val_loss: 1.0878 - val_accuracy: 0.6806\n",
            "Epoch 55/100\n",
            "20/20 [==============================] - 8s 422ms/step - loss: 0.1414 - accuracy: 0.9527 - val_loss: 0.9552 - val_accuracy: 0.7222\n",
            "Epoch 56/100\n",
            "20/20 [==============================] - 9s 431ms/step - loss: 0.0953 - accuracy: 0.9657 - val_loss: 8.3050 - val_accuracy: 0.3750\n",
            "Epoch 57/100\n",
            "20/20 [==============================] - 9s 427ms/step - loss: 0.4275 - accuracy: 0.8157 - val_loss: 0.6612 - val_accuracy: 0.8056\n",
            "Epoch 58/100\n",
            "20/20 [==============================] - 8s 369ms/step - loss: 0.1991 - accuracy: 0.9396 - val_loss: 1.2052 - val_accuracy: 0.7361\n",
            "Epoch 59/100\n",
            "20/20 [==============================] - 8s 375ms/step - loss: 0.1421 - accuracy: 0.9511 - val_loss: 0.8611 - val_accuracy: 0.7500\n",
            "Epoch 60/100\n",
            "20/20 [==============================] - 9s 437ms/step - loss: 0.0674 - accuracy: 0.9821 - val_loss: 0.8803 - val_accuracy: 0.7500\n",
            "Epoch 61/100\n",
            "20/20 [==============================] - 8s 372ms/step - loss: 0.0748 - accuracy: 0.9755 - val_loss: 1.5707 - val_accuracy: 0.6250\n",
            "Epoch 62/100\n",
            "20/20 [==============================] - 10s 506ms/step - loss: 0.1460 - accuracy: 0.9576 - val_loss: 2.6219 - val_accuracy: 0.5139\n",
            "Epoch 63/100\n",
            "20/20 [==============================] - 9s 430ms/step - loss: 0.2504 - accuracy: 0.9152 - val_loss: 0.5767 - val_accuracy: 0.8611\n",
            "Epoch 64/100\n",
            "20/20 [==============================] - 8s 392ms/step - loss: 0.0809 - accuracy: 0.9772 - val_loss: 0.5550 - val_accuracy: 0.8472\n",
            "Epoch 65/100\n",
            "20/20 [==============================] - 9s 439ms/step - loss: 0.0639 - accuracy: 0.9772 - val_loss: 0.6815 - val_accuracy: 0.8333\n",
            "Epoch 66/100\n",
            "20/20 [==============================] - 9s 439ms/step - loss: 0.2157 - accuracy: 0.9299 - val_loss: 0.4171 - val_accuracy: 0.8750\n",
            "Epoch 67/100\n",
            "20/20 [==============================] - 8s 374ms/step - loss: 0.0830 - accuracy: 0.9706 - val_loss: 1.0271 - val_accuracy: 0.6944\n",
            "Epoch 68/100\n",
            "20/20 [==============================] - 8s 395ms/step - loss: 0.1484 - accuracy: 0.9494 - val_loss: 0.5305 - val_accuracy: 0.8750\n",
            "Epoch 69/100\n",
            "20/20 [==============================] - 9s 451ms/step - loss: 0.0457 - accuracy: 0.9853 - val_loss: 1.0077 - val_accuracy: 0.6250\n",
            "Epoch 70/100\n",
            "20/20 [==============================] - 9s 429ms/step - loss: 0.1053 - accuracy: 0.9674 - val_loss: 0.9113 - val_accuracy: 0.7500\n",
            "Epoch 71/100\n",
            "20/20 [==============================] - 8s 374ms/step - loss: 0.0577 - accuracy: 0.9837 - val_loss: 0.7875 - val_accuracy: 0.7778\n",
            "Epoch 72/100\n",
            "20/20 [==============================] - 9s 451ms/step - loss: 0.0735 - accuracy: 0.9706 - val_loss: 0.8273 - val_accuracy: 0.8611\n",
            "Epoch 73/100\n",
            "20/20 [==============================] - 9s 434ms/step - loss: 0.1762 - accuracy: 0.9511 - val_loss: 1.7955 - val_accuracy: 0.6528\n",
            "Epoch 74/100\n",
            "20/20 [==============================] - 8s 380ms/step - loss: 0.1215 - accuracy: 0.9592 - val_loss: 1.4723 - val_accuracy: 0.5000\n",
            "Epoch 75/100\n",
            "20/20 [==============================] - 9s 454ms/step - loss: 0.0688 - accuracy: 0.9772 - val_loss: 0.4262 - val_accuracy: 0.8889\n",
            "Epoch 76/100\n",
            "20/20 [==============================] - 8s 383ms/step - loss: 0.0284 - accuracy: 0.9918 - val_loss: 0.4781 - val_accuracy: 0.8889\n",
            "Epoch 77/100\n",
            "20/20 [==============================] - 8s 378ms/step - loss: 0.0311 - accuracy: 0.9918 - val_loss: 0.6491 - val_accuracy: 0.8472\n",
            "Epoch 78/100\n",
            "20/20 [==============================] - 9s 417ms/step - loss: 0.2685 - accuracy: 0.9201 - val_loss: 7.0517 - val_accuracy: 0.1806\n",
            "Epoch 79/100\n",
            "20/20 [==============================] - 9s 454ms/step - loss: 0.4922 - accuracy: 0.8124 - val_loss: 21.4341 - val_accuracy: 0.3750\n",
            "Epoch 80/100\n",
            "20/20 [==============================] - 8s 379ms/step - loss: 0.2578 - accuracy: 0.9070 - val_loss: 1.2410 - val_accuracy: 0.6944\n",
            "Epoch 81/100\n",
            "20/20 [==============================] - 10s 477ms/step - loss: 0.1141 - accuracy: 0.9657 - val_loss: 0.7421 - val_accuracy: 0.7917\n",
            "Epoch 82/100\n",
            "20/20 [==============================] - 9s 439ms/step - loss: 0.0521 - accuracy: 0.9837 - val_loss: 0.6886 - val_accuracy: 0.8472\n",
            "Epoch 83/100\n",
            "20/20 [==============================] - 8s 418ms/step - loss: 0.0918 - accuracy: 0.9641 - val_loss: 0.5189 - val_accuracy: 0.9028\n",
            "Epoch 84/100\n",
            "20/20 [==============================] - 8s 374ms/step - loss: 0.0548 - accuracy: 0.9837 - val_loss: 0.5475 - val_accuracy: 0.8750\n",
            "Epoch 85/100\n",
            "20/20 [==============================] - 9s 439ms/step - loss: 0.0770 - accuracy: 0.9739 - val_loss: 4.3094 - val_accuracy: 0.4306\n",
            "Epoch 86/100\n",
            "20/20 [==============================] - 8s 406ms/step - loss: 0.1160 - accuracy: 0.9641 - val_loss: 0.5176 - val_accuracy: 0.9028\n",
            "Epoch 87/100\n",
            "20/20 [==============================] - 8s 394ms/step - loss: 0.0365 - accuracy: 0.9853 - val_loss: 0.5657 - val_accuracy: 0.8750\n",
            "Epoch 88/100\n",
            "20/20 [==============================] - 9s 448ms/step - loss: 0.5361 - accuracy: 0.8042 - val_loss: 0.3622 - val_accuracy: 0.8889\n",
            "Epoch 89/100\n",
            "20/20 [==============================] - 8s 378ms/step - loss: 0.0750 - accuracy: 0.9755 - val_loss: 0.3955 - val_accuracy: 0.8889\n",
            "Epoch 90/100\n",
            "20/20 [==============================] - 9s 447ms/step - loss: 0.0443 - accuracy: 0.9837 - val_loss: 0.6765 - val_accuracy: 0.8056\n",
            "Epoch 91/100\n",
            "20/20 [==============================] - 8s 415ms/step - loss: 0.0248 - accuracy: 0.9918 - val_loss: 0.6525 - val_accuracy: 0.8472\n",
            "Epoch 92/100\n",
            "20/20 [==============================] - 8s 397ms/step - loss: 0.0274 - accuracy: 0.9935 - val_loss: 0.4189 - val_accuracy: 0.9167\n",
            "Epoch 93/100\n",
            "20/20 [==============================] - 9s 440ms/step - loss: 0.0202 - accuracy: 0.9984 - val_loss: 0.4441 - val_accuracy: 0.8750\n",
            "Epoch 94/100\n",
            "20/20 [==============================] - 8s 413ms/step - loss: 0.0171 - accuracy: 0.9918 - val_loss: 0.4688 - val_accuracy: 0.9306\n",
            "Epoch 95/100\n",
            "20/20 [==============================] - 8s 376ms/step - loss: 0.1847 - accuracy: 0.9201 - val_loss: 1.1216 - val_accuracy: 0.7639\n",
            "Epoch 96/100\n",
            "20/20 [==============================] - 9s 437ms/step - loss: 0.1789 - accuracy: 0.9364 - val_loss: 2.0253 - val_accuracy: 0.4861\n",
            "Epoch 97/100\n",
            "20/20 [==============================] - 8s 399ms/step - loss: 0.2116 - accuracy: 0.9266 - val_loss: 0.5397 - val_accuracy: 0.8750\n",
            "Epoch 98/100\n",
            "20/20 [==============================] - 8s 373ms/step - loss: 0.1405 - accuracy: 0.9608 - val_loss: 1.2389 - val_accuracy: 0.6250\n",
            "Epoch 99/100\n",
            "20/20 [==============================] - 9s 441ms/step - loss: 0.0739 - accuracy: 0.9804 - val_loss: 0.6055 - val_accuracy: 0.8750\n",
            "Epoch 100/100\n",
            "20/20 [==============================] - 8s 413ms/step - loss: 0.0369 - accuracy: 0.9886 - val_loss: 1.1833 - val_accuracy: 0.6806\n"
          ]
        }
      ]
    },
    {
      "cell_type": "code",
      "source": [],
      "metadata": {
        "id": "bB7fMEBlUHWq"
      },
      "execution_count": null,
      "outputs": []
    },
    {
      "cell_type": "code",
      "source": [
        "test_loss, test_accuracy = model.evaluate(test_generator)\n",
        "print('Test accuracy:', test_accuracy)"
      ],
      "metadata": {
        "id": "XyTYzQ9DdKeV",
        "colab": {
          "base_uri": "https://localhost:8080/"
        },
        "outputId": "f06ccaa1-e966-4c01-ed6d-12a4621246b1"
      },
      "execution_count": null,
      "outputs": [
        {
          "output_type": "stream",
          "name": "stdout",
          "text": [
            "10/10 [==============================] - 154s 17s/step - loss: 0.4218 - accuracy: 0.8921\n",
            "Test accuracy: 0.8920634984970093\n"
          ]
        }
      ]
    },
    {
      "cell_type": "code",
      "source": [],
      "metadata": {
        "id": "pl0Ekg5TGgJS"
      },
      "execution_count": null,
      "outputs": []
    },
    {
      "cell_type": "code",
      "source": [
        "num_test_samples = len(test_generator)\n",
        "num_classes = len(test_generator.class_indices)\n",
        "predicted_probabilities = model.predict(test_generator, steps=num_test_samples)\n",
        "predicted_labels = np.argmax(predicted_probabilities, axis=1)\n",
        "true_labels = test_generator.classes\n",
        "cm = confusion_matrix(true_labels, predicted_labels)\n",
        "print(\"\\n\\nConfusion Matrix:\\n\", cm)\n",
        "\n",
        "plt.figure(figsize=(10,4))\n",
        "sns.heatmap(cm, annot=True, fmt='g', cmap='Reds')\n",
        "plt.xlabel('\\n\\nPredicted Label\\n')\n",
        "plt.ylabel('\\nTrue Label\\n')\n",
        "plt.title('Confusion Matrix\\n\\n')\n",
        "plt.show()"
      ],
      "metadata": {
        "id": "Nv2xCqwhdlIA",
        "colab": {
          "base_uri": "https://localhost:8080/",
          "height": 639
        },
        "outputId": "07b7fe89-d93c-4385-fcb2-d4b0cec6b5d3"
      },
      "execution_count": null,
      "outputs": [
        {
          "output_type": "stream",
          "name": "stdout",
          "text": [
            "10/10 [==============================] - 3s 249ms/step\n",
            "\n",
            "\n",
            "Confusion Matrix:\n",
            " [[108  12   0   0]\n",
            " [  0  51   0   0]\n",
            " [  0   0  54   0]\n",
            " [ 15   6   1  68]]\n"
          ]
        },
        {
          "output_type": "display_data",
          "data": {
            "text/plain": [
              "<Figure size 1000x400 with 2 Axes>"
            ],
            "image/png": "[encoded data removed]"
          },
          "metadata": {}
        }
      ]
    },
    {
      "cell_type": "markdown",
      "source": [
        ">## One positive and important thing to observe here is that no cancer patient's CT scan is classified as normal.\n",
        ">Only errors are in classifying the type of lung cancer which can further be improved later."
      ],
      "metadata": {
        "id": "ZmnbQJe5f17i"
      }
    },
    {
      "cell_type": "code",
      "source": [
        "import matplotlib.pyplot as plt\n",
        "import seaborn as sns"
      ],
      "metadata": {
        "id": "Icex9EbzPuO3"
      },
      "execution_count": null,
      "outputs": []
    },
    {
      "cell_type": "code",
      "source": [
        "history_dict = history.history\n",
        "\n",
        "acc_values = history_dict['accuracy']\n",
        "val_acc_values = history_dict['val_accuracy']\n",
        "epochs = range(1, len(acc_values) + 1)\n",
        "\n",
        "line1 = plt.plot(epochs, val_acc_values, label = 'Validation/Test Accuracy')\n",
        "line2 = plt.plot(epochs, acc_values, label = 'Training Accuracy')\n",
        "\n",
        "plt.setp(line1)\n",
        "plt.setp(line2)\n",
        "plt.xlabel('Epochs')\n",
        "plt.ylabel('Accuracy')\n",
        "plt.grid(True)\n",
        "plt.legend()\n",
        "plt.show()"
      ],
      "metadata": {
        "id": "RhWBEFxqdlK0",
        "colab": {
          "base_uri": "https://localhost:8080/",
          "height": 1000
        },
        "outputId": "1af959b2-0eb0-4061-b9b8-b4a63cdc44b1"
      },
      "execution_count": null,
      "outputs": [
        {
          "output_type": "stream",
          "name": "stdout",
          "text": [
            "  agg_filter: a filter function, which takes a (m, n, 3) float array and a dpi value, and returns a (m, n, 3) array and two offsets from the bottom left corner of the image\n",
            "  alpha: scalar or None\n",
            "  animated: bool\n",
            "  antialiased or aa: bool\n",
            "  clip_box: `.Bbox`\n",
            "  clip_on: bool\n",
            "  clip_path: Patch or (Path, Transform) or None\n",
            "  color or c: color\n",
            "  dash_capstyle: `.CapStyle` or {'butt', 'projecting', 'round'}\n",
            "  dash_joinstyle: `.JoinStyle` or {'miter', 'round', 'bevel'}\n",
            "  dashes: sequence of floats (on/off ink in points) or (None, None)\n",
            "  data: (2, N) array or two 1D arrays\n",
            "  drawstyle or ds: {'default', 'steps', 'steps-pre', 'steps-mid', 'steps-post'}, default: 'default'\n",
            "  figure: `.Figure`\n",
            "  fillstyle: {'full', 'left', 'right', 'bottom', 'top', 'none'}\n",
            "  gapcolor: color or None\n",
            "  gid: str\n",
            "  in_layout: bool\n",
            "  label: object\n",
            "  linestyle or ls: {'-', '--', '-.', ':', '', (offset, on-off-seq), ...}\n",
            "  linewidth or lw: float\n",
            "  marker: marker style string, `~.path.Path` or `~.markers.MarkerStyle`\n",
            "  markeredgecolor or mec: color\n",
            "  markeredgewidth or mew: float\n",
            "  markerfacecolor or mfc: color\n",
            "  markerfacecoloralt or mfcalt: color\n",
            "  markersize or ms: float\n",
            "  markevery: None or int or (int, int) or slice or list[int] or float or (float, float) or list[bool]\n",
            "  mouseover: bool\n",
            "  path_effects: `.AbstractPathEffect`\n",
            "  picker: float or callable[[Artist, Event], tuple[bool, dict]]\n",
            "  pickradius: unknown\n",
            "  rasterized: bool\n",
            "  sketch_params: (scale: float, length: float, randomness: float)\n",
            "  snap: bool or None\n",
            "  solid_capstyle: `.CapStyle` or {'butt', 'projecting', 'round'}\n",
            "  solid_joinstyle: `.JoinStyle` or {'miter', 'round', 'bevel'}\n",
            "  transform: `.Transform`\n",
            "  url: str\n",
            "  visible: bool\n",
            "  xdata: 1D array\n",
            "  ydata: 1D array\n",
            "  zorder: float\n",
            "  agg_filter: a filter function, which takes a (m, n, 3) float array and a dpi value, and returns a (m, n, 3) array and two offsets from the bottom left corner of the image\n",
            "  alpha: scalar or None\n",
            "  animated: bool\n",
            "  antialiased or aa: bool\n",
            "  clip_box: `.Bbox`\n",
            "  clip_on: bool\n",
            "  clip_path: Patch or (Path, Transform) or None\n",
            "  color or c: color\n",
            "  dash_capstyle: `.CapStyle` or {'butt', 'projecting', 'round'}\n",
            "  dash_joinstyle: `.JoinStyle` or {'miter', 'round', 'bevel'}\n",
            "  dashes: sequence of floats (on/off ink in points) or (None, None)\n",
            "  data: (2, N) array or two 1D arrays\n",
            "  drawstyle or ds: {'default', 'steps', 'steps-pre', 'steps-mid', 'steps-post'}, default: 'default'\n",
            "  figure: `.Figure`\n",
            "  fillstyle: {'full', 'left', 'right', 'bottom', 'top', 'none'}\n",
            "  gapcolor: color or None\n",
            "  gid: str\n",
            "  in_layout: bool\n",
            "  label: object\n",
            "  linestyle or ls: {'-', '--', '-.', ':', '', (offset, on-off-seq), ...}\n",
            "  linewidth or lw: float\n",
            "  marker: marker style string, `~.path.Path` or `~.markers.MarkerStyle`\n",
            "  markeredgecolor or mec: color\n",
            "  markeredgewidth or mew: float\n",
            "  markerfacecolor or mfc: color\n",
            "  markerfacecoloralt or mfcalt: color\n",
            "  markersize or ms: float\n",
            "  markevery: None or int or (int, int) or slice or list[int] or float or (float, float) or list[bool]\n",
            "  mouseover: bool\n",
            "  path_effects: `.AbstractPathEffect`\n",
            "  picker: float or callable[[Artist, Event], tuple[bool, dict]]\n",
            "  pickradius: unknown\n",
            "  rasterized: bool\n",
            "  sketch_params: (scale: float, length: float, randomness: float)\n",
            "  snap: bool or None\n",
            "  solid_capstyle: `.CapStyle` or {'butt', 'projecting', 'round'}\n",
            "  solid_joinstyle: `.JoinStyle` or {'miter', 'round', 'bevel'}\n",
            "  transform: `.Transform`\n",
            "  url: str\n",
            "  visible: bool\n",
            "  xdata: 1D array\n",
            "  ydata: 1D array\n",
            "  zorder: float\n"
          ]
        },
        {
          "output_type": "display_data",
          "data": {
            "text/plain": [
              "<Figure size 640x480 with 1 Axes>"
            ],
            "image/png": "[encoded data removed]"
          },
          "metadata": {}
        }
      ]
    },
    {
      "cell_type": "code",
      "source": [
        "history_dict = history.history\n",
        "\n",
        "loss_values = history_dict['loss']\n",
        "val_loss_values = history_dict['val_loss']\n",
        "epochs = range(1, len(loss_values) + 1)\n",
        "\n",
        "line1 = plt.plot(epochs, val_loss_values, label = 'Validation/Test Loss')\n",
        "line2 = plt.plot(epochs, loss_values, label = 'Training Loss')\n",
        "\n",
        "plt.setp(line1)\n",
        "plt.setp(line2)\n",
        "plt.xlabel('Epochs')\n",
        "plt.ylabel('Loss')\n",
        "plt.grid(True)\n",
        "plt.legend()\n",
        "plt.show()"
      ],
      "metadata": {
        "id": "MnasRr2OdlN9",
        "colab": {
          "base_uri": "https://localhost:8080/",
          "height": 1000
        },
        "outputId": "e975d0a3-c0d3-485b-de7d-62511c6a7727"
      },
      "execution_count": null,
      "outputs": [
        {
          "output_type": "stream",
          "name": "stdout",
          "text": [
            "  agg_filter: a filter function, which takes a (m, n, 3) float array and a dpi value, and returns a (m, n, 3) array and two offsets from the bottom left corner of the image\n",
            "  alpha: scalar or None\n",
            "  animated: bool\n",
            "  antialiased or aa: bool\n",
            "  clip_box: `.Bbox`\n",
            "  clip_on: bool\n",
            "  clip_path: Patch or (Path, Transform) or None\n",
            "  color or c: color\n",
            "  dash_capstyle: `.CapStyle` or {'butt', 'projecting', 'round'}\n",
            "  dash_joinstyle: `.JoinStyle` or {'miter', 'round', 'bevel'}\n",
            "  dashes: sequence of floats (on/off ink in points) or (None, None)\n",
            "  data: (2, N) array or two 1D arrays\n",
            "  drawstyle or ds: {'default', 'steps', 'steps-pre', 'steps-mid', 'steps-post'}, default: 'default'\n",
            "  figure: `.Figure`\n",
            "  fillstyle: {'full', 'left', 'right', 'bottom', 'top', 'none'}\n",
            "  gapcolor: color or None\n",
            "  gid: str\n",
            "  in_layout: bool\n",
            "  label: object\n",
            "  linestyle or ls: {'-', '--', '-.', ':', '', (offset, on-off-seq), ...}\n",
            "  linewidth or lw: float\n",
            "  marker: marker style string, `~.path.Path` or `~.markers.MarkerStyle`\n",
            "  markeredgecolor or mec: color\n",
            "  markeredgewidth or mew: float\n",
            "  markerfacecolor or mfc: color\n",
            "  markerfacecoloralt or mfcalt: color\n",
            "  markersize or ms: float\n",
            "  markevery: None or int or (int, int) or slice or list[int] or float or (float, float) or list[bool]\n",
            "  mouseover: bool\n",
            "  path_effects: `.AbstractPathEffect`\n",
            "  picker: float or callable[[Artist, Event], tuple[bool, dict]]\n",
            "  pickradius: unknown\n",
            "  rasterized: bool\n",
            "  sketch_params: (scale: float, length: float, randomness: float)\n",
            "  snap: bool or None\n",
            "  solid_capstyle: `.CapStyle` or {'butt', 'projecting', 'round'}\n",
            "  solid_joinstyle: `.JoinStyle` or {'miter', 'round', 'bevel'}\n",
            "  transform: `.Transform`\n",
            "  url: str\n",
            "  visible: bool\n",
            "  xdata: 1D array\n",
            "  ydata: 1D array\n",
            "  zorder: float\n",
            "  agg_filter: a filter function, which takes a (m, n, 3) float array and a dpi value, and returns a (m, n, 3) array and two offsets from the bottom left corner of the image\n",
            "  alpha: scalar or None\n",
            "  animated: bool\n",
            "  antialiased or aa: bool\n",
            "  clip_box: `.Bbox`\n",
            "  clip_on: bool\n",
            "  clip_path: Patch or (Path, Transform) or None\n",
            "  color or c: color\n",
            "  dash_capstyle: `.CapStyle` or {'butt', 'projecting', 'round'}\n",
            "  dash_joinstyle: `.JoinStyle` or {'miter', 'round', 'bevel'}\n",
            "  dashes: sequence of floats (on/off ink in points) or (None, None)\n",
            "  data: (2, N) array or two 1D arrays\n",
            "  drawstyle or ds: {'default', 'steps', 'steps-pre', 'steps-mid', 'steps-post'}, default: 'default'\n",
            "  figure: `.Figure`\n",
            "  fillstyle: {'full', 'left', 'right', 'bottom', 'top', 'none'}\n",
            "  gapcolor: color or None\n",
            "  gid: str\n",
            "  in_layout: bool\n",
            "  label: object\n",
            "  linestyle or ls: {'-', '--', '-.', ':', '', (offset, on-off-seq), ...}\n",
            "  linewidth or lw: float\n",
            "  marker: marker style string, `~.path.Path` or `~.markers.MarkerStyle`\n",
            "  markeredgecolor or mec: color\n",
            "  markeredgewidth or mew: float\n",
            "  markerfacecolor or mfc: color\n",
            "  markerfacecoloralt or mfcalt: color\n",
            "  markersize or ms: float\n",
            "  markevery: None or int or (int, int) or slice or list[int] or float or (float, float) or list[bool]\n",
            "  mouseover: bool\n",
            "  path_effects: `.AbstractPathEffect`\n",
            "  picker: float or callable[[Artist, Event], tuple[bool, dict]]\n",
            "  pickradius: unknown\n",
            "  rasterized: bool\n",
            "  sketch_params: (scale: float, length: float, randomness: float)\n",
            "  snap: bool or None\n",
            "  solid_capstyle: `.CapStyle` or {'butt', 'projecting', 'round'}\n",
            "  solid_joinstyle: `.JoinStyle` or {'miter', 'round', 'bevel'}\n",
            "  transform: `.Transform`\n",
            "  url: str\n",
            "  visible: bool\n",
            "  xdata: 1D array\n",
            "  ydata: 1D array\n",
            "  zorder: float\n"
          ]
        },
        {
          "output_type": "display_data",
          "data": {
            "text/plain": [
              "<Figure size 640x480 with 1 Axes>"
            ],
            "image/png": "[encoded data removed]"
          },
          "metadata": {}
        }
      ]
    },
    {
      "cell_type": "code",
      "source": [
        "report = classification_report(true_labels, predicted_labels)\n",
        "print(report)"
      ],
      "metadata": {
        "id": "leQZqz1gdKhq",
        "colab": {
          "base_uri": "https://localhost:8080/"
        },
        "outputId": "b54cc8c4-d315-4ac3-e263-5e18f5646563"
      },
      "execution_count": null,
      "outputs": [
        {
          "output_type": "stream",
          "name": "stdout",
          "text": [
            "              precision    recall  f1-score   support\n",
            "\n",
            "           0       0.88      0.90      0.89       120\n",
            "           1       0.74      1.00      0.85        51\n",
            "           2       0.98      1.00      0.99        54\n",
            "           3       1.00      0.76      0.86        90\n",
            "\n",
            "    accuracy                           0.89       315\n",
            "   macro avg       0.90      0.91      0.90       315\n",
            "weighted avg       0.91      0.89      0.89       315\n",
            "\n"
          ]
        }
      ]
    },
    {
      "cell_type": "code",
      "source": [],
      "metadata": {
        "id": "pAoGBWB-DllI"
      },
      "execution_count": null,
      "outputs": []
    },
    {
      "cell_type": "markdown",
      "source": [
        "## Save the Model\n",
        "Save the trained model for future use:"
      ],
      "metadata": {
        "id": "mIMTOL7WM97A"
      }
    },
    {
      "cell_type": "code",
      "source": [
        "model.save('lung_cancer_detection_model.h5')"
      ],
      "metadata": {
        "id": "tHqzLlMnq3FT"
      },
      "execution_count": null,
      "outputs": []
    },
    {
      "cell_type": "code",
      "source": [],
      "metadata": {
        "id": "B6JxSaN-Wjky"
      },
      "execution_count": null,
      "outputs": []
    },
    {
      "cell_type": "markdown",
      "source": [
        "## Conculsion\n",
        "\n",
        "Created a robust model capable of accurately diagnosing lung cancer and providing valuable insights into its type for better treatment planning.\n",
        "\n",
        "The Customized SERES VGG16 model performs best with an accuracy of 89%."
      ],
      "metadata": {
        "id": "J7Wk4IoerpB5"
      }
    },
    {
      "cell_type": "code",
      "source": [],
      "metadata": {
        "id": "cZMcyQ9Pr8Nc"
      },
      "execution_count": null,
      "outputs": []
    }
  ]
}